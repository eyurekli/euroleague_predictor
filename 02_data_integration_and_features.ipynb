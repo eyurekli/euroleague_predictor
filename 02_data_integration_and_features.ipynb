{
 "cells": [
  {
   "cell_type": "markdown",
   "metadata": {},
   "source": [
    "### **02 — Data Integration & Feature Building - Euroleague**\n",
    "### **Goal**\n",
    "\n",
    "Create a game-level table with home/away features and a home_win label. Inputs are Stage-1 cleaned files in clean_data/.\n",
    "\n",
    "1) Setup & load"
   ]
  },
  {
   "cell_type": "code",
   "execution_count": 8,
   "metadata": {},
   "outputs": [],
   "source": [
    "import pandas as pd\n",
    "import numpy as np\n",
    "from pathlib import Path\n",
    "\n",
    "CLEAN = Path(\"clean_data\")\n",
    "\n",
    "hdr = pd.read_csv(CLEAN / \"clean_header.csv\", low_memory=False)\n",
    "box = pd.read_csv(CLEAN / \"clean_boxscore.csv\", low_memory=False)\n",
    "teams = pd.read_csv(CLEAN / \"clean_teams.csv\", low_memory=False)\n"
   ]
  },
  {
   "cell_type": "markdown",
   "metadata": {},
   "source": [
    "### 2) Helper: pick columns by “best available” name\n",
    "\n",
    "(Minor schema variations? This keeps things robust.)"
   ]
  },
  {
   "cell_type": "code",
   "execution_count": 9,
   "metadata": {},
   "outputs": [],
   "source": [
    "def pick(df, options):\n",
    "    for c in options:\n",
    "        if c in df.columns: \n",
    "            return c\n",
    "    return None\n",
    "\n",
    "# Likely keys (based on your notes)\n",
    "GAME_ID = pick(hdr, [\"game_id\", \"game\", \"gamecode\"])\n",
    "TEAM_A  = pick(hdr, [\"team_id_a\", \"team_a_id\", \"home_team_id\", \"hometeam_id\"])\n",
    "TEAM_B  = pick(hdr, [\"team_id_b\", \"team_b_id\", \"away_team_id\", \"awayteam_id\"])\n",
    "\n",
    "# Boxscore keys\n",
    "BOX_GAME = pick(box, [\"game_id\", \"game\", \"game_i\"])\n",
    "BOX_TEAM = pick(box, [\"team_id\", \"team\"])\n",
    "BOX_PLAYER = pick(box, [\"player_id\", \"player\"])\n",
    "\n",
    "assert GAME_ID and TEAM_A and TEAM_B, \"Header key columns not found.\"\n",
    "assert BOX_GAME and BOX_TEAM, \"Boxscore key columns not found.\"\n"
   ]
  },
  {
   "cell_type": "markdown",
   "metadata": {},
   "source": [
    "### **3) Label & basic game master**"
   ]
  },
  {
   "cell_type": "code",
   "execution_count": 10,
   "metadata": {},
   "outputs": [],
   "source": [
    "# score columns (names vary a bit by dataset version)\n",
    "HOME_SCORE = pick(hdr, [\"score_a\", \"home_score\", \"homescore\", \"final_score_a\"])\n",
    "AWAY_SCORE = pick(hdr, [\"score_b\", \"away_score\", \"awayscore\", \"final_score_b\"])\n",
    "assert HOME_SCORE and AWAY_SCORE, \"Score columns not found in header.\"\n",
    "\n",
    "game_master = hdr[[GAME_ID, TEAM_A, TEAM_B, HOME_SCORE, AWAY_SCORE, \"season_code\"]].drop_duplicates()\n",
    "\n",
    "# Winner label\n",
    "game_master[\"home_win\"] = (game_master[HOME_SCORE].astype(float) > game_master[AWAY_SCORE].astype(float)).astype(int)\n"
   ]
  },
  {
   "cell_type": "markdown",
   "metadata": {},
   "source": [
    "### **4) Optional: enrich with readable team names**\n",
    "\n",
    "(this just makes the dataset nicer to inspect.)"
   ]
  },
  {
   "cell_type": "code",
   "execution_count": 11,
   "metadata": {},
   "outputs": [],
   "source": [
    "TEAM_ID = pick(teams, [\"team_id\", \"teamcode\", \"id\"])\n",
    "TEAM_NAME = pick(teams, [\"team_name\", \"team\", \"name\"])\n",
    "TEAM_ABBR = pick(teams, [\"team_abbreviation\", \"abbreviation\", \"abbr\"])\n",
    "\n",
    "teams_slim = teams[[c for c in [TEAM_ID, TEAM_NAME, TEAM_ABBR] if c]].drop_duplicates()\n",
    "\n",
    "# Map names for A/B\n",
    "if TEAM_ID:\n",
    "    game_master = game_master.merge(\n",
    "        teams_slim.add_prefix(\"a_\"), left_on=TEAM_A, right_on=f\"a_{TEAM_ID}\", how=\"left\"\n",
    "    ).merge(\n",
    "        teams_slim.add_prefix(\"b_\"), left_on=TEAM_B, right_on=f\"b_{TEAM_ID}\", how=\"left\"\n",
    "    )\n",
    "\n",
    "# Nice-to-have human labels:\n",
    "game_master.rename(columns={\n",
    "    f\"a_{TEAM_NAME}\": \"home_team_name\",\n",
    "    f\"b_{TEAM_NAME}\": \"away_team_name\",\n",
    "    f\"a_{TEAM_ABBR}\": \"home_abbr\",\n",
    "    f\"b_{TEAM_ABBR}\": \"away_abbr\",\n",
    "}, inplace=True)\n"
   ]
  },
  {
   "cell_type": "markdown",
   "metadata": {},
   "source": [
    "### **5) Aggregate boxscore to team-game totals**\n",
    "\n",
    "We’ll sum player rows → team totals, then derive percentages."
   ]
  },
  {
   "cell_type": "code",
   "execution_count": 12,
   "metadata": {},
   "outputs": [],
   "source": [
    "# numeric columns we care about (only keep if present)\n",
    "num_candidates = [\n",
    "    \"points\",\"assists\",\"steals\",\"turnovers\",\"blocks_favour\",\"blocks_against\",\n",
    "    \"fouls_committed\",\"fouls_received\",\n",
    "    \"offensive_rebounds\",\"defensive_rebounds\",\n",
    "    \"two_points_made\",\"two_points_attempted\",\n",
    "    \"three_points_made\",\"three_points_attempted\",\n",
    "    \"free_throws_made\",\"free_throws_attempted\",\n",
    "    # some datasets have alt names:\n",
    "    \"rebounds\",\"total_rebounds\",\"valuation\"\n",
    "]\n",
    "num_cols = [c for c in num_candidates if c in box.columns]\n",
    "\n",
    "box_team = (box\n",
    "    .groupby([BOX_GAME, BOX_TEAM, \"season_code\"], dropna=False)[num_cols]\n",
    "    .sum(min_count=1)\n",
    "    .reset_index()\n",
    ")\n",
    "\n",
    "# derive safe percentages\n",
    "def safe_div(a, b):\n",
    "    return a / b.replace(0, np.nan)\n",
    "\n",
    "if {\"two_points_made\",\"two_points_attempted\"}.issubset(box_team.columns):\n",
    "    box_team[\"fg2_pct\"] = safe_div(box_team[\"two_points_made\"], box_team[\"two_points_attempted\"])\n",
    "if {\"three_points_made\",\"three_points_attempted\"}.issubset(box_team.columns):\n",
    "    box_team[\"fg3_pct\"] = safe_div(box_team[\"three_points_made\"], box_team[\"three_points_attempted\"])\n",
    "if {\"free_throws_made\",\"free_throws_attempted\"}.issubset(box_team.columns):\n",
    "    box_team[\"ft_pct\"]  = safe_div(box_team[\"free_throws_made\"], box_team[\"free_throws_attempted\"])\n",
    "\n",
    "# total rebounds if split is present\n",
    "if {\"offensive_rebounds\",\"defensive_rebounds\"}.issubset(box_team.columns) and \"total_rebounds\" not in box_team.columns:\n",
    "    box_team[\"total_rebounds\"] = box_team[\"offensive_rebounds\"].fillna(0) + box_team[\"defensive_rebounds\"].fillna(0)\n",
    "\n",
    "# assist/turnover ratio (protect against 0)\n",
    "if {\"assists\",\"turnovers\"}.issubset(box_team.columns):\n",
    "    box_team[\"ast_tov\"] = box_team[\"assists\"] / box_team[\"turnovers\"].replace(0, np.nan)\n"
   ]
  },
  {
   "cell_type": "markdown",
   "metadata": {},
   "source": [
    "### **6) Split into home vs away rows and pivot wide**"
   ]
  },
  {
   "cell_type": "code",
   "execution_count": 17,
   "metadata": {},
   "outputs": [
    {
     "name": "stdout",
     "output_type": "stream",
     "text": [
      "✅ Combined game-level dataset built.\n",
      "Shape: (4667, 50)\n",
      "Columns (sample): ['game_id', 'team_id_a', 'team_id_b', 'season_code', 'home_win', 'home_home_win', 'home_points', 'home_assists', 'home_steals', 'home_turnovers', 'home_blocks_favour', 'home_blocks_against', 'home_fouls_committed', 'home_fouls_received', 'home_offensive_rebounds']\n"
     ]
    }
   ],
   "source": [
    "# Normalize ids to the same dtype\n",
    "game_master[[TEAM_A, TEAM_B]] = game_master[[TEAM_A, TEAM_B]].astype(str)\n",
    "box_team[BOX_TEAM] = box_team[BOX_TEAM].astype(str)\n",
    "\n",
    "# HOME features\n",
    "home_feats = game_master[[GAME_ID, TEAM_A, \"season_code\", \"home_win\"]].merge(\n",
    "    box_team, left_on=[GAME_ID, TEAM_A, \"season_code\"], right_on=[BOX_GAME, BOX_TEAM, \"season_code\"], how=\"left\"\n",
    ")\n",
    "\n",
    "# AWAY features\n",
    "away_feats = game_master[[GAME_ID, TEAM_B, \"season_code\"]].merge(\n",
    "    box_team, left_on=[GAME_ID, TEAM_B, \"season_code\"], right_on=[BOX_GAME, BOX_TEAM, \"season_code\"], how=\"left\"\n",
    ")\n",
    "\n",
    "# Keep only numeric columns for features and prefix\n",
    "home_num = home_feats.select_dtypes(include=[np.number]).add_prefix(\"home_\")\n",
    "away_num = away_feats.select_dtypes(include=[np.number]).add_prefix(\"away_\")\n",
    "\n",
    "# --- Safer version: works even if team names/abbr columns are missing ---\n",
    "base_cols = [GAME_ID, TEAM_A, TEAM_B, \"season_code\", \"home_win\"]\n",
    "optional_cols = [\"home_team_name\", \"away_team_name\", \"home_abbr\", \"away_abbr\"]\n",
    "present_optionals = [c for c in optional_cols if c in game_master.columns]\n",
    "\n",
    "games = game_master[base_cols + present_optionals].copy()\n",
    "games = games.join(home_num.reset_index(drop=True)).join(away_num.reset_index(drop=True))\n",
    "\n",
    "print(\"✅ Combined game-level dataset built.\")\n",
    "print(\"Shape:\", games.shape)\n",
    "print(\"Columns (sample):\", games.columns[:15].tolist())"
   ]
  },
  {
   "cell_type": "markdown",
   "metadata": {},
   "source": [
    "### **7) Minimal missing-value handling (for now)**\n",
    "\n",
    "We keep this conservative; more sophisticated imputation can come later."
   ]
  },
  {
   "cell_type": "code",
   "execution_count": 18,
   "metadata": {},
   "outputs": [
    {
     "name": "stdout",
     "output_type": "stream",
     "text": [
      "Games shape: (4667, 50)\n"
     ]
    },
    {
     "data": {
      "text/html": [
       "<div>\n",
       "<style scoped>\n",
       "    .dataframe tbody tr th:only-of-type {\n",
       "        vertical-align: middle;\n",
       "    }\n",
       "\n",
       "    .dataframe tbody tr th {\n",
       "        vertical-align: top;\n",
       "    }\n",
       "\n",
       "    .dataframe thead th {\n",
       "        text-align: right;\n",
       "    }\n",
       "</style>\n",
       "<table border=\"1\" class=\"dataframe\">\n",
       "  <thead>\n",
       "    <tr style=\"text-align: right;\">\n",
       "      <th></th>\n",
       "      <th>game_id</th>\n",
       "      <th>team_id_a</th>\n",
       "      <th>team_id_b</th>\n",
       "      <th>season_code</th>\n",
       "      <th>home_win</th>\n",
       "      <th>home_home_win</th>\n",
       "      <th>home_points</th>\n",
       "      <th>home_assists</th>\n",
       "      <th>home_steals</th>\n",
       "      <th>home_turnovers</th>\n",
       "      <th>...</th>\n",
       "      <th>away_three_points_made</th>\n",
       "      <th>away_three_points_attempted</th>\n",
       "      <th>away_free_throws_made</th>\n",
       "      <th>away_free_throws_attempted</th>\n",
       "      <th>away_total_rebounds</th>\n",
       "      <th>away_valuation</th>\n",
       "      <th>away_fg2_pct</th>\n",
       "      <th>away_fg3_pct</th>\n",
       "      <th>away_ft_pct</th>\n",
       "      <th>away_ast_tov</th>\n",
       "    </tr>\n",
       "  </thead>\n",
       "  <tbody>\n",
       "    <tr>\n",
       "      <th>0</th>\n",
       "      <td>E2007_001</td>\n",
       "      <td>OLY</td>\n",
       "      <td>BAS</td>\n",
       "      <td>E2007</td>\n",
       "      <td>1</td>\n",
       "      <td>1</td>\n",
       "      <td>190</td>\n",
       "      <td>32</td>\n",
       "      <td>20</td>\n",
       "      <td>22</td>\n",
       "      <td>...</td>\n",
       "      <td>24</td>\n",
       "      <td>62</td>\n",
       "      <td>24</td>\n",
       "      <td>30</td>\n",
       "      <td>81</td>\n",
       "      <td>173</td>\n",
       "      <td>0.477273</td>\n",
       "      <td>0.387097</td>\n",
       "      <td>0.800000</td>\n",
       "      <td>1.307692</td>\n",
       "    </tr>\n",
       "    <tr>\n",
       "      <th>1</th>\n",
       "      <td>E2007_002</td>\n",
       "      <td>VIR</td>\n",
       "      <td>ZAL</td>\n",
       "      <td>E2007</td>\n",
       "      <td>1</td>\n",
       "      <td>1</td>\n",
       "      <td>162</td>\n",
       "      <td>16</td>\n",
       "      <td>28</td>\n",
       "      <td>32</td>\n",
       "      <td>...</td>\n",
       "      <td>12</td>\n",
       "      <td>56</td>\n",
       "      <td>26</td>\n",
       "      <td>42</td>\n",
       "      <td>70</td>\n",
       "      <td>166</td>\n",
       "      <td>0.687500</td>\n",
       "      <td>0.214286</td>\n",
       "      <td>0.619048</td>\n",
       "      <td>0.666667</td>\n",
       "    </tr>\n",
       "    <tr>\n",
       "      <th>2</th>\n",
       "      <td>E2007_003</td>\n",
       "      <td>SOP</td>\n",
       "      <td>CSK</td>\n",
       "      <td>E2007</td>\n",
       "      <td>0</td>\n",
       "      <td>0</td>\n",
       "      <td>138</td>\n",
       "      <td>22</td>\n",
       "      <td>10</td>\n",
       "      <td>24</td>\n",
       "      <td>...</td>\n",
       "      <td>22</td>\n",
       "      <td>42</td>\n",
       "      <td>18</td>\n",
       "      <td>26</td>\n",
       "      <td>58</td>\n",
       "      <td>188</td>\n",
       "      <td>0.575000</td>\n",
       "      <td>0.523810</td>\n",
       "      <td>0.692308</td>\n",
       "      <td>2.125000</td>\n",
       "    </tr>\n",
       "  </tbody>\n",
       "</table>\n",
       "<p>3 rows × 50 columns</p>\n",
       "</div>"
      ],
      "text/plain": [
       "     game_id team_id_a team_id_b season_code  home_win  home_home_win  \\\n",
       "0  E2007_001       OLY       BAS       E2007         1              1   \n",
       "1  E2007_002       VIR       ZAL       E2007         1              1   \n",
       "2  E2007_003       SOP       CSK       E2007         0              0   \n",
       "\n",
       "   home_points  home_assists  home_steals  home_turnovers  ...  \\\n",
       "0          190            32           20              22  ...   \n",
       "1          162            16           28              32  ...   \n",
       "2          138            22           10              24  ...   \n",
       "\n",
       "   away_three_points_made  away_three_points_attempted  away_free_throws_made  \\\n",
       "0                      24                           62                     24   \n",
       "1                      12                           56                     26   \n",
       "2                      22                           42                     18   \n",
       "\n",
       "   away_free_throws_attempted  away_total_rebounds  away_valuation  \\\n",
       "0                          30                   81             173   \n",
       "1                          42                   70             166   \n",
       "2                          26                   58             188   \n",
       "\n",
       "   away_fg2_pct  away_fg3_pct  away_ft_pct  away_ast_tov  \n",
       "0      0.477273      0.387097     0.800000      1.307692  \n",
       "1      0.687500      0.214286     0.619048      0.666667  \n",
       "2      0.575000      0.523810     0.692308      2.125000  \n",
       "\n",
       "[3 rows x 50 columns]"
      ]
     },
     "execution_count": 18,
     "metadata": {},
     "output_type": "execute_result"
    }
   ],
   "source": [
    "# Fill NaNs in engineered rates with 0 (common, safe baseline), leave labels intact\n",
    "feature_cols = games.select_dtypes(include=[np.number]).columns.tolist()\n",
    "feature_cols.remove(\"home_win\")\n",
    "games[feature_cols] = games[feature_cols].fillna(0)\n",
    "\n",
    "print(\"Games shape:\", games.shape)\n",
    "games.head(3)\n"
   ]
  },
  {
   "cell_type": "markdown",
   "metadata": {},
   "source": [
    "### **8) Save the training table**"
   ]
  },
  {
   "cell_type": "code",
   "execution_count": 19,
   "metadata": {},
   "outputs": [
    {
     "name": "stdout",
     "output_type": "stream",
     "text": [
      "✅ Saved: clean_data\\games_features.csv\n"
     ]
    }
   ],
   "source": [
    "OUT = Path(\"clean_data\") / \"games_features.csv\"\n",
    "games.to_csv(OUT, index=False)\n",
    "print(\"✅ Saved:\", OUT)\n"
   ]
  },
  {
   "cell_type": "code",
   "execution_count": 20,
   "metadata": {},
   "outputs": [
    {
     "name": "stdout",
     "output_type": "stream",
     "text": [
      "Nulls per column (top 10):\n",
      "game_id                    0\n",
      "away_defensive_rebounds    0\n",
      "home_ast_tov               0\n",
      "away_points                0\n",
      "away_assists               0\n",
      "away_steals                0\n",
      "away_turnovers             0\n",
      "away_blocks_favour         0\n",
      "away_blocks_against        0\n",
      "away_fouls_committed       0\n",
      "dtype: int64\n"
     ]
    }
   ],
   "source": [
    "# Sanity checks\n",
    "assert \"home_win\" in games.columns, \"Missing label 'home_win'.\"\n",
    "print(\"Nulls per column (top 10):\")\n",
    "print(games.isna().sum().sort_values(ascending=False).head(10))\n",
    "\n",
    "# (optional) fill NaNs in numeric features with 0 for baseline modeling\n",
    "feature_cols = [c for c in games.columns if c not in [GAME_ID, TEAM_A, TEAM_B, \"season_code\", \"home_win\"]]\n",
    "games[feature_cols] = games[feature_cols].fillna(0)\n"
   ]
  },
  {
   "cell_type": "markdown",
   "metadata": {},
   "source": [
    "\n",
    "---\n",
    "\n",
    "### 🧾 **Reflection — Stage 2: Data Integration & Feature Building**\n",
    "\n",
    "In this stage, I transformed the cleaned Euroleague datasets into a unified, game-level analytics table ready for machine learning.\n",
    "\n",
    "**Key accomplishments**\n",
    "\n",
    "* **Integrated multi-source data:** Joined `header`, `boxscore`, and `teams` tables through validated keys (`game_id`, `team_id`, `season_code`), creating one consistent structure per game.\n",
    "* **Aggregated player statistics:** Rolled player-level box scores up to team-level totals for each match, resolving duplicated and missing entries.\n",
    "* **Engineered new metrics:** Calculated core efficiency ratios such as field-goal %, three-point %, free-throw %, rebound totals, and assist-to-turnover ratio.\n",
    "* **Built home/away feature sets:** Pivoted team statistics into `home_*` and `away_*` columns and generated the binary label `home_win`.\n",
    "* **Ensured reproducibility:** Filled minor numeric gaps, standardized data types, and exported a single modeling-ready file — `games_features.csv`.\n",
    "\n",
    "> **Summary:**\n",
    "> Stage 2 established the analytical backbone of the project. Raw multi-table data were reshaped into a structured, feature-rich dataset that captures each game’s statistical profile and outcome — the essential bridge between data engineering and predictive modeling.\n",
    "\n",
    "---\n",
    "\n"
   ]
  }
 ],
 "metadata": {
  "kernelspec": {
   "display_name": "Python 3",
   "language": "python",
   "name": "python3"
  },
  "language_info": {
   "codemirror_mode": {
    "name": "ipython",
    "version": 3
   },
   "file_extension": ".py",
   "mimetype": "text/x-python",
   "name": "python",
   "nbconvert_exporter": "python",
   "pygments_lexer": "ipython3",
   "version": "3.10.6"
  }
 },
 "nbformat": 4,
 "nbformat_minor": 2
}
